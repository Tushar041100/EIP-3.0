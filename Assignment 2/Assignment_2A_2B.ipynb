{
  "nbformat": 4,
  "nbformat_minor": 0,
  "metadata": {
    "colab": {
      "name": "Assignment 2A/2B.ipynb",
      "version": "0.3.2",
      "provenance": [],
      "collapsed_sections": []
    },
    "kernelspec": {
      "name": "python3",
      "display_name": "Python 3"
    },
    "accelerator": "GPU"
  },
  "cells": [
    {
      "metadata": {
        "id": "eTcp-kGZ-ETm",
        "colab_type": "text"
      },
      "cell_type": "markdown",
      "source": [
        "# 2A Assignment"
      ]
    },
    {
      "metadata": {
        "id": "7VvnsDDl-MQE",
        "colab_type": "text"
      },
      "cell_type": "markdown",
      "source": [
        "\n",
        "<p style=\"text-align: justify;\">\n",
        "\t\n",
        "\t<a href=\"http://hmkcode.github.io/images/ai/backpropagation.png\">\n",
        "\t\t<img class=\"size-full wp-image-315 aligncenter\" src=\"http://hmkcode.github.io/images/ai/backpropagation.png\" alt=\"get-location\" />\n",
        "\t</a>\n",
        "\t<br>\n",
        "\tIf you are building your own neural network, you will definitely need to understand how to train it.\n",
        "\tBackpropagation is a commonly used technique for training neural network. There are many resources explaining the technique, \n",
        "\tbut this post will explain backpropagation with concrete example in a very detailed colorful steps.\n",
        "</p>\n",
        "\n",
        "## Overview\n",
        "\n",
        "In this post, we will build a neural network with three layers:\n",
        "\n",
        "- **Input** layer with two inputs neurons\n",
        "- One **hidden** layer with two neurons \n",
        "- **Output** layer with a single neuron \n",
        "\n",
        "\n",
        "\n",
        "\n",
        "## Weights, weights, weights\n",
        "\n",
        "Neural network training is about finding weights that minimize prediction error. We usually start our training with a set of randomly generated weights.Then, backpropagation is used to update the weights in an attempt to correctly map arbitrary inputs to outputs.\n",
        "\n",
        "Our initial weights will be as following:\n",
        "`w1 = 0.22`,  `w2 = 0.24`, `w3 = 0.42`, `w4 = 0.16`, `w5 = 0.28` and `w6 = 0.30`\n",
        "\n",
        "\n",
        "## Dataset\n",
        "\n",
        "Our dataset has one sample with two inputs and one output. \n",
        "\n",
        "\n",
        "Our single sample is as following `inputs=[2, 3]` and `output=[1]`.\n",
        "\n",
        "\n",
        "## Forward Pass\n",
        "\n",
        "We will use given weights and inputs to predict the output. Inputs are multiplied by weights; the results are then passed forward to next layer. \n",
        "\n",
        "\n",
        "\n",
        "$\\begin{bmatrix}2 & 3\\end{bmatrix}$ .  $\\begin{bmatrix}0.22 & 0.42\\\\0.24 & 0.16\\end{bmatrix}$ = $\\begin{bmatrix}1.16 & 1.32\\end{bmatrix}$ . $\\begin{bmatrix}0.28 \\\\0.30\\end{bmatrix}$ = 0.7208 \n",
        "\n",
        "\n",
        "## Calculating Error\n",
        "\n",
        "Now, it's time to find out how our network performed by calculating the difference between the actual output and predicted one. It's clear that our network output, or **prediction**, is not even close to **actual output**. We can calculate the difference or the error as following.\n",
        "\n",
        "\n",
        "Error = $\\frac{1}{2}$ ${(0.7208 - 1.0)^2}$ = 0.03898\n",
        "\n",
        "## Reducing Error\n",
        "\n",
        "Our main goal of the training is to reduce the **error** or the difference between **prediction** and **actual output**. Since **actual output** is constant, \"not changing\", the only way to reduce the error is to change **prediction** value. The question now is, how to change **prediction** value?\n",
        "\n",
        "By decomposing **prediction** into its basic elements we can find that **weights** are the variable elements affecting **prediction** value. In other words, in order to change **prediction** value, we need to change **weights** values. \n",
        "\n",
        "\n",
        "\n",
        "> The question now is **how to change\\update the weights value so that the error is reduced?**  \n",
        "> The answer is **Backpropagation!**\n",
        "\n",
        "\n",
        "## **Backpropagation**\n",
        "\n",
        "**Backpropagation**,  short for \"backward propagation of errors\", is a mechanism used to update the **weights** using [gradient descent](https://en.wikipedia.org/wiki/Gradient_descent). It calculates the gradient of the error function with respect to the neural network's weights. The calculation proceeds backwards through the network.\n",
        "\n",
        "> **Gradient descent** is an iterative optimization algorithm for finding the minimum of a function; in our case we want to minimize th error function. To find a local minimum of a function using gradient descent, one takes steps proportional to the negative of the gradient of the function at the current point. \n",
        "\n",
        "\n",
        "For example, to update `w6`, we take the current `w6` and subtract the partial derivative of **error** function with respect to `w6`. Optionally, we multiply the derivative of the **error** function by a selected number to make sure that the new updated **weight** is minimizing the error function; this number is called ***learning rate***. \n",
        "\n",
        "\n",
        "\n",
        "\n",
        "The derivation of the error function is evaluated by applying the chain rule as following\n",
        "\n",
        "\n",
        "So to update `w6` we can apply the following formula\n",
        "\n",
        "\n",
        "Similarly, we can derive the update formula for `w5` and any other weights existing between the output and the hidden layer.\n",
        "\n",
        "\n",
        "However, when moving backward to update `w1`, `w2`, `w3` and `w4` existing between input and hidden layer, the partial derivative for the error function with respect to `w1`, for example, will be as following.\n",
        "\n",
        "We can find the update formula for the remaining weights `w2`, `w3` and `w4` in the same way. \n",
        "\n",
        "In summary, the update formulas for all weights will be as following:\n",
        "\n",
        "We can rewrite the update formulas in matrices as following\n",
        "\n",
        "## Backward Pass\n",
        "\n",
        "Using derived formulas we can find the new **weights**. \n",
        "\n",
        "> **Learning rate:** is a hyperparameter which means that we need to manually guess its value.\n",
        "\n",
        "\n",
        "`delta = -0.27920`\n",
        "<br>\n",
        "`a = 0.05`\n",
        "<br>\n",
        "$\\begin{bmatrix} W5 \\\\ W6 \\end{bmatrix}$ = $\\begin{bmatrix} 0.28 \\\\ 0.30 \\end{bmatrix}$ - 0.05(-0.27920)$\\begin{bmatrix}1.16  \\\\ 1.32 \\end{bmatrix}$ = $\\begin{bmatrix} 0.28 \\\\ 0.30 \\end{bmatrix}$ - $\\begin{bmatrix} -0.01619 \\\\ -0.01843 \\end{bmatrix}$ = $\\begin{bmatrix} 0.29619 \\\\ 0.31843 \\end{bmatrix}$\n",
        "<br>\n",
        "<br>\n",
        "$\\begin{bmatrix} W1 & W3\\\\ W2 & W4 \\end{bmatrix}$  = $\\begin{bmatrix} 0.22 & 0.42\\\\ 0.24 & 0.16 \\end{bmatrix}$  - (0.05)(-0.27920)$\\begin{bmatrix} 2 \\\\3 \\end{bmatrix}$. $\\begin{bmatrix} 0.28 & 0.30 \\end{bmatrix}$ = $\\begin{bmatrix} 0.22 & 0.42\\\\ 0.24 & 0.16 \\end{bmatrix}$  - $\\begin{bmatrix} -0.00782 & - 0.00838 \\\\  -0.011 & -0.01256 \\end{bmatrix}$ = $\\begin{bmatrix} 0.22782 & 0.42838\\\\0.2510  & 0.17256 \\end{bmatrix}$ \n",
        "<br>\n",
        "<br>\n",
        "Now, using the new **weights** we will repeat the forward passed\n",
        "<br>\n",
        "<br>\n",
        "$\\begin{bmatrix}2 & 3\\end{bmatrix}$ .  $\\begin{bmatrix}0.227 & 0.429\\\\0.251 & 0.172\\end{bmatrix}$ = $\\begin{bmatrix}1.207 & 1.375\\end{bmatrix}$  $\\begin{bmatrix}0.296 \\\\0.318\\end{bmatrix}$ = 0.7945\n",
        "<br>\n",
        "<br>\n",
        "We can notice that the **prediction** `0.7945` is a little bit closer to **actual output** than the previously predicted one `0.7208`. We can repeat the same process of backward and forward pass until **error** is close or equal to zero.\n"
      ]
    },
    {
      "metadata": {
        "id": "EioRgwhRd-yX",
        "colab_type": "text"
      },
      "cell_type": "markdown",
      "source": [
        "# Assignment 2B"
      ]
    },
    {
      "metadata": {
        "id": "58yWhd32eEzC",
        "colab_type": "code",
        "colab": {}
      },
      "cell_type": "code",
      "source": [
        "import numpy as np"
      ],
      "execution_count": 0,
      "outputs": []
    },
    {
      "metadata": {
        "id": "59E1OLBOge_E",
        "colab_type": "code",
        "colab": {}
      },
      "cell_type": "code",
      "source": [
        "# Initialize the weights\n",
        "weights = {}\n",
        "weights['w1'] = 0.22\n",
        "weights['w2'] = 0.24\n",
        "weights['w3'] = 0.42\n",
        "weights['w4'] = 0.16\n",
        "weights['w5'] = 0.28\n",
        "weights['w6'] = 0.30\n",
        "\n",
        "# Input\n",
        "inp = {}\n",
        "inp['i1'] = 2\n",
        "inp['i2'] = 3\n",
        "\n"
      ],
      "execution_count": 0,
      "outputs": []
    },
    {
      "metadata": {
        "id": "YgqOjdP0sGfS",
        "colab_type": "code",
        "colab": {}
      },
      "cell_type": "code",
      "source": [
        "# Forward Propagation\n",
        "def forward_prop(inp, weights):\n",
        "  input_val = np.array([inp['i1'], inp['i2']])\n",
        "  \n",
        "  layer1 = np.array([[weights['w1'], weights['w3'] ],[weights['w2'], weights['w4']]])\n",
        "  \n",
        "  out1 = np.matmul(input_val, layer1)\n",
        "  \n",
        "  layer2 = np.array([weights['w5'], weights['w6']])\n",
        "  \n",
        "  out2 = np.matmul(out1, layer2)\n",
        "  \n",
        "  return out2"
      ],
      "execution_count": 0,
      "outputs": []
    },
    {
      "metadata": {
        "id": "QrJRbMPRhikg",
        "colab_type": "code",
        "colab": {
          "base_uri": "https://localhost:8080/",
          "height": 34
        },
        "outputId": "84898d06-2fa5-48cb-81ed-2ddbad3b0b13"
      },
      "cell_type": "code",
      "source": [
        "# Initial Forward Prop\n",
        "val = forward_prop(inp, weights)\n",
        "print(f'The initial prediction value is: {val}')"
      ],
      "execution_count": 4,
      "outputs": [
        {
          "output_type": "stream",
          "text": [
            "The initial prediction value is: 0.7208\n"
          ],
          "name": "stdout"
        }
      ]
    },
    {
      "metadata": {
        "id": "3F6roHBNhlLE",
        "colab_type": "code",
        "colab": {}
      },
      "cell_type": "code",
      "source": [
        "# Backpropagation\n",
        "def back_prop(inp, weights, lr, y_pred, y_true):\n",
        "  error = (0.5) * (y_pred - y_true)**2\n",
        "  \n",
        "  delta = (y_pred - y_true)\n",
        "  \n",
        "  layer2 = np.array([[weights['w5']], [weights['w6']]])\n",
        "  \n",
        "  layer1 = np.array([[weights['w1'], weights['w3']],[weights['w2'], weights['w4']]])\n",
        "  \n",
        "  weights['w1'] -= lr * delta * inp['i1'] * weights['w5']\n",
        "  \n",
        "  weights['w2'] -= lr * delta * inp['i2'] * weights['w5']\n",
        "  \n",
        "  weights['w3'] -= lr * delta * inp['i1'] * weights['w6']\n",
        "  \n",
        "  weights['w4'] -= lr * delta * inp['i2'] * weights['w6']\n",
        "  \n",
        "  weights['w5'] -= lr * delta * (inp['i1']*weights['w1'] + inp['i2']*weights['w2'])\n",
        "  \n",
        "  weights['w6'] -= lr * delta * (inp['i1']*weights['w3'] + inp['i2']*weights['w4'])\n",
        "  \n",
        "  print(f'delta = {delta}\\nlearning rate = {lr}')\n",
        "  print('The updated weights are: ')\n",
        "  \n",
        "  [print(f'{i} = {weights[i]}') for i in weights]\n",
        "  \n",
        "  return weights\n",
        "  \n",
        "  "
      ],
      "execution_count": 0,
      "outputs": []
    },
    {
      "metadata": {
        "id": "TaLAfKUxsLH1",
        "colab_type": "code",
        "colab": {
          "base_uri": "https://localhost:8080/",
          "height": 194
        },
        "outputId": "8ed0c732-3bf8-4e4d-ff9b-8154b9e057b8"
      },
      "cell_type": "code",
      "source": [
        "weights = back_prop(inp, weights, 0.05, val, 1.0) \n",
        "val = forward_prop(inp, weights)\n",
        "print(f'The forward prop value now is: {val}')"
      ],
      "execution_count": 6,
      "outputs": [
        {
          "output_type": "stream",
          "text": [
            "delta = -0.2792\n",
            "learning rate = 0.05\n",
            "The updated weights are: \n",
            "w1 = 0.2278176\n",
            "w2 = 0.2517264\n",
            "w3 = 0.428376\n",
            "w4 = 0.172564\n",
            "w5 = 0.29690296902400004\n",
            "w6 = 0.31918723824\n",
            "The forward prop value now is: 0.7981993747725518\n"
          ],
          "name": "stdout"
        }
      ]
    },
    {
      "metadata": {
        "id": "yqk1MlgytmVT",
        "colab_type": "code",
        "colab": {
          "base_uri": "https://localhost:8080/",
          "height": 194
        },
        "outputId": "74288d02-62ed-4f4c-8b1b-f8ae8e688724"
      },
      "cell_type": "code",
      "source": [
        "weights = back_prop(inp, weights, 0.05, val, 1.0) \n",
        "val = forward_prop(inp, weights)\n",
        "print(f'The forward prop value now is: {val}')"
      ],
      "execution_count": 7,
      "outputs": [
        {
          "output_type": "stream",
          "text": [
            "delta = -0.20180062522744824\n",
            "learning rate = 0.05\n",
            "The updated weights are: \n",
            "w1 = 0.2338091204780929\n",
            "w2 = 0.26071368071713935\n",
            "w3 = 0.43481721842414545\n",
            "w4 = 0.18222582763621817\n",
            "w5 = 0.30951307925974614\n",
            "w6 = 0.333477869786202\n",
            "The forward prop value now is: 0.8591255260014397\n"
          ],
          "name": "stdout"
        }
      ]
    },
    {
      "metadata": {
        "id": "Lz4zmoACts17",
        "colab_type": "code",
        "colab": {
          "base_uri": "https://localhost:8080/",
          "height": 194
        },
        "outputId": "5b140756-bb76-45b4-b4ca-90d1adb178c6"
      },
      "cell_type": "code",
      "source": [
        "weights = back_prop(inp, weights, 0.05, val, 1.0) \n",
        "val = forward_prop(inp, weights)\n",
        "print(f'The forward prop value now is: {val}')"
      ],
      "execution_count": 8,
      "outputs": [
        {
          "output_type": "stream",
          "text": [
            "delta = -0.14087447399856035\n",
            "learning rate = 0.05\n",
            "The updated weights are: \n",
            "w1 = 0.23816936970173205\n",
            "w2 = 0.2672540545525981\n",
            "w3 = 0.43951507037377463\n",
            "w4 = 0.18927260556066192\n",
            "w5 = 0.31851566888153815\n",
            "w6 = 0.34366906703414085\n",
            "The forward prop value now is: 0.9043320517067153\n"
          ],
          "name": "stdout"
        }
      ]
    },
    {
      "metadata": {
        "id": "zLk3lTRzttWj",
        "colab_type": "code",
        "colab": {}
      },
      "cell_type": "code",
      "source": [
        ""
      ],
      "execution_count": 0,
      "outputs": []
    }
  ]
}