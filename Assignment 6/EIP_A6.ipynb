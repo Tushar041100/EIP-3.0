{
  "nbformat": 4,
  "nbformat_minor": 0,
  "metadata": {
    "colab": {
      "name": "EIP A6",
      "version": "0.3.2",
      "provenance": [],
      "collapsed_sections": []
    },
    "kernelspec": {
      "name": "python3",
      "display_name": "Python 3"
    },
    "accelerator": "GPU"
  },
  "cells": [
    {
      "cell_type": "code",
      "metadata": {
        "id": "yYzRVqJk0o-w",
        "colab_type": "code",
        "colab": {
          "base_uri": "https://localhost:8080/",
          "height": 390
        },
        "outputId": "b26427a9-125e-4fb6-fabf-326780e5a83f"
      },
      "source": [
        "! pip install tensorflow-gpu==2.0.0-beta1\n",
        "import tensorflow as tf\n",
        "print(tf.__version__)\n",
        "\n",
        "import numpy as np"
      ],
      "execution_count": 1,
      "outputs": [
        {
          "output_type": "stream",
          "text": [
            "Requirement already satisfied: tensorflow-gpu==2.0.0-beta1 in /usr/local/lib/python3.6/dist-packages (2.0.0b1)\n",
            "Requirement already satisfied: keras-applications>=1.0.6 in /usr/local/lib/python3.6/dist-packages (from tensorflow-gpu==2.0.0-beta1) (1.0.8)\n",
            "Requirement already satisfied: grpcio>=1.8.6 in /usr/local/lib/python3.6/dist-packages (from tensorflow-gpu==2.0.0-beta1) (1.15.0)\n",
            "Requirement already satisfied: wheel>=0.26 in /usr/local/lib/python3.6/dist-packages (from tensorflow-gpu==2.0.0-beta1) (0.33.4)\n",
            "Requirement already satisfied: tb-nightly<1.14.0a20190604,>=1.14.0a20190603 in /usr/local/lib/python3.6/dist-packages (from tensorflow-gpu==2.0.0-beta1) (1.14.0a20190603)\n",
            "Requirement already satisfied: gast>=0.2.0 in /usr/local/lib/python3.6/dist-packages (from tensorflow-gpu==2.0.0-beta1) (0.2.2)\n",
            "Requirement already satisfied: keras-preprocessing>=1.0.5 in /usr/local/lib/python3.6/dist-packages (from tensorflow-gpu==2.0.0-beta1) (1.1.0)\n",
            "Requirement already satisfied: protobuf>=3.6.1 in /usr/local/lib/python3.6/dist-packages (from tensorflow-gpu==2.0.0-beta1) (3.7.1)\n",
            "Requirement already satisfied: google-pasta>=0.1.6 in /usr/local/lib/python3.6/dist-packages (from tensorflow-gpu==2.0.0-beta1) (0.1.7)\n",
            "Requirement already satisfied: astor>=0.6.0 in /usr/local/lib/python3.6/dist-packages (from tensorflow-gpu==2.0.0-beta1) (0.8.0)\n",
            "Requirement already satisfied: six>=1.10.0 in /usr/local/lib/python3.6/dist-packages (from tensorflow-gpu==2.0.0-beta1) (1.12.0)\n",
            "Requirement already satisfied: wrapt>=1.11.1 in /usr/local/lib/python3.6/dist-packages (from tensorflow-gpu==2.0.0-beta1) (1.11.2)\n",
            "Requirement already satisfied: absl-py>=0.7.0 in /usr/local/lib/python3.6/dist-packages (from tensorflow-gpu==2.0.0-beta1) (0.7.1)\n",
            "Requirement already satisfied: termcolor>=1.1.0 in /usr/local/lib/python3.6/dist-packages (from tensorflow-gpu==2.0.0-beta1) (1.1.0)\n",
            "Requirement already satisfied: tf-estimator-nightly<1.14.0.dev2019060502,>=1.14.0.dev2019060501 in /usr/local/lib/python3.6/dist-packages (from tensorflow-gpu==2.0.0-beta1) (1.14.0.dev2019060501)\n",
            "Requirement already satisfied: numpy<2.0,>=1.14.5 in /usr/local/lib/python3.6/dist-packages (from tensorflow-gpu==2.0.0-beta1) (1.16.4)\n",
            "Requirement already satisfied: h5py in /usr/local/lib/python3.6/dist-packages (from keras-applications>=1.0.6->tensorflow-gpu==2.0.0-beta1) (2.8.0)\n",
            "Requirement already satisfied: werkzeug>=0.11.15 in /usr/local/lib/python3.6/dist-packages (from tb-nightly<1.14.0a20190604,>=1.14.0a20190603->tensorflow-gpu==2.0.0-beta1) (0.15.5)\n",
            "Requirement already satisfied: setuptools>=41.0.0 in /usr/local/lib/python3.6/dist-packages (from tb-nightly<1.14.0a20190604,>=1.14.0a20190603->tensorflow-gpu==2.0.0-beta1) (41.0.1)\n",
            "Requirement already satisfied: markdown>=2.6.8 in /usr/local/lib/python3.6/dist-packages (from tb-nightly<1.14.0a20190604,>=1.14.0a20190603->tensorflow-gpu==2.0.0-beta1) (3.1.1)\n",
            "2.0.0-beta1\n"
          ],
          "name": "stdout"
        }
      ]
    },
    {
      "cell_type": "markdown",
      "metadata": {
        "id": "t-6BD1Km2x0a",
        "colab_type": "text"
      },
      "source": [
        "### Read the data from the file and remove all 14 punctuations"
      ]
    },
    {
      "cell_type": "code",
      "metadata": {
        "id": "1qo0CdPw07xo",
        "colab_type": "code",
        "colab": {}
      },
      "source": [
        "data = open('pg11.txt').read().lower()\n",
        "\n",
        "punc = \"\"\"!()-[]{};:'\"\\,<>/?@#$%^&*_~\\ufeff\"\"\"\n",
        "punc = punc\n",
        "new = ''\n",
        "for i in data:\n",
        "    if i not in punc:\n",
        "        new = new + i\n",
        "new = new.replace('.', ' ')        \n",
        "chars = sorted(list(set(new)))\n",
        "char_to_num = dict((x, i) for i,x in enumerate(chars))"
      ],
      "execution_count": 0,
      "outputs": []
    },
    {
      "cell_type": "code",
      "metadata": {
        "id": "UtK2hy_Gdwyn",
        "colab_type": "code",
        "colab": {
          "base_uri": "https://localhost:8080/",
          "height": 54
        },
        "outputId": "35f94655-ba99-4abc-b30e-ed5c42b120a8"
      },
      "source": [
        "print(char_to_num)"
      ],
      "execution_count": 3,
      "outputs": [
        {
          "output_type": "stream",
          "text": [
            "{'\\n': 0, ' ': 1, '0': 2, '3': 3, 'a': 4, 'b': 5, 'c': 6, 'd': 7, 'e': 8, 'f': 9, 'g': 10, 'h': 11, 'i': 12, 'j': 13, 'k': 14, 'l': 15, 'm': 16, 'n': 17, 'o': 18, 'p': 19, 'q': 20, 'r': 21, 's': 22, 't': 23, 'u': 24, 'v': 25, 'w': 26, 'x': 27, 'y': 28, 'z': 29}\n"
          ],
          "name": "stdout"
        }
      ]
    },
    {
      "cell_type": "markdown",
      "metadata": {
        "id": "z5zBUMW54joq",
        "colab_type": "text"
      },
      "source": [
        "### Split by newline character and removed all empy lines\n"
      ]
    },
    {
      "cell_type": "code",
      "metadata": {
        "id": "uObdSEwyd-Q8",
        "colab_type": "code",
        "colab": {
          "base_uri": "https://localhost:8080/",
          "height": 52
        },
        "outputId": "fde5ebd2-0608-4aa5-b5b5-5d9f36a5a60a"
      },
      "source": [
        "new_data = new.split('\\n')\n",
        "count = 0\n",
        "\n",
        "while count < len(new_data):\n",
        "    if new_data[count] == '':\n",
        "        new_data.pop(count)\n",
        "    else:\n",
        "        count += 1\n",
        "        \n",
        "print(len(new_data))\n",
        "print(new_data[:5])"
      ],
      "execution_count": 4,
      "outputs": [
        {
          "output_type": "stream",
          "text": [
            "2481\n",
            "['alices adventures in wonderland', 'lewis carroll', 'the millennium fulcrum edition 3 0', 'chapter i  down the rabbithole', 'alice was beginning to get very tired of sitting by her sister on the']\n"
          ],
          "name": "stdout"
        }
      ]
    },
    {
      "cell_type": "code",
      "metadata": {
        "id": "QOG-BKlU2LC7",
        "colab_type": "code",
        "colab": {
          "base_uri": "https://localhost:8080/",
          "height": 34
        },
        "outputId": "217d41cb-c467-4c3f-b61f-feabfce0a45d"
      },
      "source": [
        "# Average line length\n",
        "\n",
        "summed = 0\n",
        "for i in new_data:\n",
        "    summed = summed + len(i)\n",
        "    \n",
        "print(summed / len(new_data) )"
      ],
      "execution_count": 5,
      "outputs": [
        {
          "output_type": "stream",
          "text": [
            "53.914550584441756\n"
          ],
          "name": "stdout"
        }
      ]
    },
    {
      "cell_type": "code",
      "metadata": {
        "id": "hvKBwCgP-5E-",
        "colab_type": "code",
        "colab": {
          "base_uri": "https://localhost:8080/",
          "height": 34
        },
        "outputId": "de69aebf-c156-4b4d-83dc-823e227c6b7e"
      },
      "source": [
        "from google.colab import drive\n",
        "drive.mount('/content/drive')"
      ],
      "execution_count": 6,
      "outputs": [
        {
          "output_type": "stream",
          "text": [
            "Drive already mounted at /content/drive; to attempt to forcibly remount, call drive.mount(\"/content/drive\", force_remount=True).\n"
          ],
          "name": "stdout"
        }
      ]
    },
    {
      "cell_type": "code",
      "metadata": {
        "id": "8wU7CR5G_IaY",
        "colab_type": "code",
        "colab": {}
      },
      "source": [
        "from tensorflow.keras.layers import Dense, Dropout, LSTM\n",
        "from tensorflow.keras.models import Sequential\n",
        "from tensorflow.keras import utils"
      ],
      "execution_count": 0,
      "outputs": []
    },
    {
      "cell_type": "code",
      "metadata": {
        "id": "7eHpRdE785jf",
        "colab_type": "code",
        "colab": {}
      },
      "source": [
        "filepath = '/content/drive/My Drive/EIP/a6.hdf5'\n",
        "ckpt = tf.keras.callbacks.ModelCheckpoint(filepath, verbose=1, monitor='loss', save_best_only=True, mode='min')\n",
        "callbacks = [ckpt]"
      ],
      "execution_count": 0,
      "outputs": []
    },
    {
      "cell_type": "code",
      "metadata": {
        "id": "UffXiQDs88ub",
        "colab_type": "code",
        "colab": {}
      },
      "source": [
        "from tensorflow.keras.preprocessing.sequence import pad_sequences\n",
        "X, y = [], []\n",
        "i = 0\n",
        "for line in new_data:\n",
        "    while len(line) > 50:   \n",
        "        X.insert(i, [char_to_num[j] for j in list(line[:50])])    \n",
        "        y.insert(i, char_to_num[line[50]])\n",
        "        i+=1\n",
        "        line = line[51:]\n",
        "        \n",
        "    if len(line) > 1:\n",
        "        X.insert(i, [char_to_num[j] for j in list(line[:-1])])    \n",
        "        y.insert(i, char_to_num[line[-1]])\n",
        "        \n",
        "X = pad_sequences(X)"
      ],
      "execution_count": 0,
      "outputs": []
    },
    {
      "cell_type": "code",
      "metadata": {
        "id": "IH6qWmosEYTs",
        "colab_type": "code",
        "colab": {}
      },
      "source": [
        "X = utils.to_categorical(X)\n",
        "X = X / len(chars)\n",
        "y = utils.to_categorical(y)"
      ],
      "execution_count": 0,
      "outputs": []
    },
    {
      "cell_type": "code",
      "metadata": {
        "id": "-i4DNMG0JTv2",
        "colab_type": "code",
        "colab": {
          "base_uri": "https://localhost:8080/",
          "height": 52
        },
        "outputId": "4465c9fd-6683-44e0-e987-864d9faf2aa6"
      },
      "source": [
        "print(X.shape)\n",
        "print(y.shape)"
      ],
      "execution_count": 11,
      "outputs": [
        {
          "output_type": "stream",
          "text": [
            "(4184, 50, 30)\n",
            "(4184, 30)\n"
          ],
          "name": "stdout"
        }
      ]
    },
    {
      "cell_type": "code",
      "metadata": {
        "id": "TgkcZ7F0FDcy",
        "colab_type": "code",
        "colab": {}
      },
      "source": [
        "model = Sequential([\n",
        "    Dropout(0.1),\n",
        "    LSTM(256, input_shape=(X.shape[1], X.shape[2])),\n",
        "    Dense(30, activation='softmax')\n",
        "])\n",
        "\n",
        "model.compile(loss='categorical_crossentropy', optimizer='adam')"
      ],
      "execution_count": 0,
      "outputs": []
    },
    {
      "cell_type": "code",
      "metadata": {
        "id": "afFc3PEjGWCX",
        "colab_type": "code",
        "colab": {
          "base_uri": "https://localhost:8080/",
          "height": 1000
        },
        "outputId": "a1cd741a-0c59-459b-cee7-6be48997940a"
      },
      "source": [
        "model.fit(X, y, epochs=100, batch_size=32)"
      ],
      "execution_count": 37,
      "outputs": [
        {
          "output_type": "stream",
          "text": [
            "Train on 4184 samples\n",
            "Epoch 1/100\n",
            "4184/4184 [==============================] - 1s 319us/sample - loss: 2.7594\n",
            "Epoch 2/100\n",
            "4184/4184 [==============================] - 1s 180us/sample - loss: 2.7038\n",
            "Epoch 3/100\n",
            "4184/4184 [==============================] - 1s 179us/sample - loss: 2.6939\n",
            "Epoch 4/100\n",
            "4184/4184 [==============================] - 1s 179us/sample - loss: 2.6968\n",
            "Epoch 5/100\n",
            "4184/4184 [==============================] - 1s 181us/sample - loss: 2.6926\n",
            "Epoch 6/100\n",
            "4184/4184 [==============================] - 1s 183us/sample - loss: 2.6921\n",
            "Epoch 7/100\n",
            "4184/4184 [==============================] - 1s 174us/sample - loss: 2.6870\n",
            "Epoch 8/100\n",
            "4184/4184 [==============================] - 1s 178us/sample - loss: 2.6849\n",
            "Epoch 9/100\n",
            "4184/4184 [==============================] - 1s 176us/sample - loss: 2.6821\n",
            "Epoch 10/100\n",
            "4184/4184 [==============================] - 1s 175us/sample - loss: 2.6774\n",
            "Epoch 11/100\n",
            "4184/4184 [==============================] - 1s 175us/sample - loss: 2.6694\n",
            "Epoch 12/100\n",
            "4184/4184 [==============================] - 1s 182us/sample - loss: 2.6537\n",
            "Epoch 13/100\n",
            "4184/4184 [==============================] - 1s 180us/sample - loss: 2.6096\n",
            "Epoch 14/100\n",
            "4184/4184 [==============================] - 1s 181us/sample - loss: 2.5560\n",
            "Epoch 15/100\n",
            "4184/4184 [==============================] - 1s 174us/sample - loss: 2.4844\n",
            "Epoch 16/100\n",
            "4184/4184 [==============================] - 1s 181us/sample - loss: 2.4222\n",
            "Epoch 17/100\n",
            "4184/4184 [==============================] - 1s 184us/sample - loss: 2.3564\n",
            "Epoch 18/100\n",
            "4184/4184 [==============================] - 1s 180us/sample - loss: 2.3067\n",
            "Epoch 19/100\n",
            "4184/4184 [==============================] - 1s 180us/sample - loss: 2.2722\n",
            "Epoch 20/100\n",
            "4184/4184 [==============================] - 1s 184us/sample - loss: 2.2202\n",
            "Epoch 21/100\n",
            "4184/4184 [==============================] - 1s 180us/sample - loss: 2.1923\n",
            "Epoch 22/100\n",
            "4184/4184 [==============================] - 1s 179us/sample - loss: 2.1624\n",
            "Epoch 23/100\n",
            "4184/4184 [==============================] - 1s 180us/sample - loss: 2.1332\n",
            "Epoch 24/100\n",
            "4184/4184 [==============================] - 1s 178us/sample - loss: 2.1134\n",
            "Epoch 25/100\n",
            "4184/4184 [==============================] - 1s 177us/sample - loss: 2.0851\n",
            "Epoch 26/100\n",
            "4184/4184 [==============================] - 1s 181us/sample - loss: 2.0647\n",
            "Epoch 27/100\n",
            "4184/4184 [==============================] - 1s 177us/sample - loss: 2.0234\n",
            "Epoch 28/100\n",
            "4184/4184 [==============================] - 1s 184us/sample - loss: 1.9863\n",
            "Epoch 29/100\n",
            "4184/4184 [==============================] - 1s 175us/sample - loss: 1.9556\n",
            "Epoch 30/100\n",
            "4184/4184 [==============================] - 1s 179us/sample - loss: 1.9272\n",
            "Epoch 31/100\n",
            "4184/4184 [==============================] - 1s 178us/sample - loss: 1.8940\n",
            "Epoch 32/100\n",
            "4184/4184 [==============================] - 1s 180us/sample - loss: 1.8738\n",
            "Epoch 33/100\n",
            "4184/4184 [==============================] - 1s 179us/sample - loss: 1.8428\n",
            "Epoch 34/100\n",
            "4184/4184 [==============================] - 1s 182us/sample - loss: 1.8221\n",
            "Epoch 35/100\n",
            "4184/4184 [==============================] - 1s 185us/sample - loss: 1.7809\n",
            "Epoch 36/100\n",
            "4184/4184 [==============================] - 1s 184us/sample - loss: 1.7750\n",
            "Epoch 37/100\n",
            "4184/4184 [==============================] - 1s 179us/sample - loss: 1.7612\n",
            "Epoch 38/100\n",
            "4184/4184 [==============================] - 1s 183us/sample - loss: 1.7232\n",
            "Epoch 39/100\n",
            "4184/4184 [==============================] - 1s 183us/sample - loss: 1.7001\n",
            "Epoch 40/100\n",
            "4184/4184 [==============================] - 1s 185us/sample - loss: 1.6754\n",
            "Epoch 41/100\n",
            "4184/4184 [==============================] - 1s 182us/sample - loss: 1.6449\n",
            "Epoch 42/100\n",
            "4184/4184 [==============================] - 1s 179us/sample - loss: 1.6075\n",
            "Epoch 43/100\n",
            "4184/4184 [==============================] - 1s 179us/sample - loss: 1.5760\n",
            "Epoch 44/100\n",
            "4184/4184 [==============================] - 1s 176us/sample - loss: 1.5414\n",
            "Epoch 45/100\n",
            "4184/4184 [==============================] - 1s 177us/sample - loss: 1.5298\n",
            "Epoch 46/100\n",
            "4184/4184 [==============================] - 1s 183us/sample - loss: 1.4836\n",
            "Epoch 47/100\n",
            "4184/4184 [==============================] - 1s 176us/sample - loss: 1.4485\n",
            "Epoch 48/100\n",
            "4184/4184 [==============================] - 1s 175us/sample - loss: 1.4169\n",
            "Epoch 49/100\n",
            "4184/4184 [==============================] - 1s 180us/sample - loss: 1.3916\n",
            "Epoch 50/100\n",
            "4184/4184 [==============================] - 1s 181us/sample - loss: 1.3752\n",
            "Epoch 51/100\n",
            "4184/4184 [==============================] - 1s 182us/sample - loss: 1.3284\n",
            "Epoch 52/100\n",
            "4184/4184 [==============================] - 1s 177us/sample - loss: 1.2857\n",
            "Epoch 53/100\n",
            "4184/4184 [==============================] - 1s 181us/sample - loss: 1.2484\n",
            "Epoch 54/100\n",
            "4184/4184 [==============================] - 1s 179us/sample - loss: 1.2105\n",
            "Epoch 55/100\n",
            "4184/4184 [==============================] - 1s 177us/sample - loss: 1.1684\n",
            "Epoch 56/100\n",
            "4184/4184 [==============================] - 1s 177us/sample - loss: 1.1395\n",
            "Epoch 57/100\n",
            "4184/4184 [==============================] - 1s 177us/sample - loss: 1.1189\n",
            "Epoch 58/100\n",
            "4184/4184 [==============================] - 1s 178us/sample - loss: 1.0661\n",
            "Epoch 59/100\n",
            "4184/4184 [==============================] - 1s 174us/sample - loss: 1.0314\n",
            "Epoch 60/100\n",
            "4184/4184 [==============================] - 1s 178us/sample - loss: 0.9956\n",
            "Epoch 61/100\n",
            "4184/4184 [==============================] - 1s 178us/sample - loss: 0.9778\n",
            "Epoch 62/100\n",
            "4184/4184 [==============================] - 1s 176us/sample - loss: 0.9422\n",
            "Epoch 63/100\n",
            "4184/4184 [==============================] - 1s 180us/sample - loss: 0.9086\n",
            "Epoch 64/100\n",
            "4184/4184 [==============================] - 1s 181us/sample - loss: 0.8926\n",
            "Epoch 65/100\n",
            "4184/4184 [==============================] - 1s 179us/sample - loss: 0.8392\n",
            "Epoch 66/100\n",
            "4184/4184 [==============================] - 1s 182us/sample - loss: 0.7966\n",
            "Epoch 67/100\n",
            "4184/4184 [==============================] - 1s 180us/sample - loss: 0.8031\n",
            "Epoch 68/100\n",
            "4184/4184 [==============================] - 1s 179us/sample - loss: 0.7382\n",
            "Epoch 69/100\n",
            "4184/4184 [==============================] - 1s 185us/sample - loss: 0.7361\n",
            "Epoch 70/100\n",
            "4184/4184 [==============================] - 1s 177us/sample - loss: 0.6891\n",
            "Epoch 71/100\n",
            "4184/4184 [==============================] - 1s 178us/sample - loss: 0.6501\n",
            "Epoch 72/100\n",
            "4184/4184 [==============================] - 1s 176us/sample - loss: 0.6413\n",
            "Epoch 73/100\n",
            "4184/4184 [==============================] - 1s 177us/sample - loss: 0.6103\n",
            "Epoch 74/100\n",
            "4184/4184 [==============================] - 1s 177us/sample - loss: 0.5887\n",
            "Epoch 75/100\n",
            "4184/4184 [==============================] - 1s 180us/sample - loss: 0.5578\n",
            "Epoch 76/100\n",
            "4184/4184 [==============================] - 1s 178us/sample - loss: 0.5692\n",
            "Epoch 77/100\n",
            "4184/4184 [==============================] - 1s 176us/sample - loss: 0.5310\n",
            "Epoch 78/100\n",
            "4184/4184 [==============================] - 1s 176us/sample - loss: 0.5119\n",
            "Epoch 79/100\n",
            "4184/4184 [==============================] - 1s 178us/sample - loss: 0.4808\n",
            "Epoch 80/100\n",
            "4184/4184 [==============================] - 1s 175us/sample - loss: 0.4581\n",
            "Epoch 81/100\n",
            "4184/4184 [==============================] - 1s 179us/sample - loss: 0.4349\n",
            "Epoch 82/100\n",
            "4184/4184 [==============================] - 1s 180us/sample - loss: 0.4239\n",
            "Epoch 83/100\n",
            "4184/4184 [==============================] - 1s 185us/sample - loss: 0.4206\n",
            "Epoch 84/100\n",
            "4184/4184 [==============================] - 1s 176us/sample - loss: 0.3969\n",
            "Epoch 85/100\n",
            "4184/4184 [==============================] - 1s 195us/sample - loss: 0.3772\n",
            "Epoch 86/100\n",
            "4184/4184 [==============================] - 1s 184us/sample - loss: 0.3707\n",
            "Epoch 87/100\n",
            "4184/4184 [==============================] - 1s 178us/sample - loss: 0.3759\n",
            "Epoch 88/100\n",
            "4184/4184 [==============================] - 1s 175us/sample - loss: 0.3896\n",
            "Epoch 89/100\n",
            "4184/4184 [==============================] - 1s 182us/sample - loss: 0.3819\n",
            "Epoch 90/100\n",
            "4184/4184 [==============================] - 1s 177us/sample - loss: 0.3472\n",
            "Epoch 91/100\n",
            "4184/4184 [==============================] - 1s 180us/sample - loss: 0.3459\n",
            "Epoch 92/100\n",
            "4184/4184 [==============================] - 1s 175us/sample - loss: 0.3187\n",
            "Epoch 93/100\n",
            "4184/4184 [==============================] - 1s 177us/sample - loss: 0.3198\n",
            "Epoch 94/100\n",
            "4184/4184 [==============================] - 1s 179us/sample - loss: 0.3279\n",
            "Epoch 95/100\n",
            "4184/4184 [==============================] - 1s 174us/sample - loss: 0.2929\n",
            "Epoch 96/100\n",
            "4184/4184 [==============================] - 1s 179us/sample - loss: 0.3181\n",
            "Epoch 97/100\n",
            "4184/4184 [==============================] - 1s 183us/sample - loss: 0.2977\n",
            "Epoch 98/100\n",
            "4184/4184 [==============================] - 1s 179us/sample - loss: 0.2680\n",
            "Epoch 99/100\n",
            "4184/4184 [==============================] - 1s 180us/sample - loss: 0.2800\n",
            "Epoch 100/100\n",
            "4184/4184 [==============================] - 1s 182us/sample - loss: 0.2723\n"
          ],
          "name": "stdout"
        },
        {
          "output_type": "execute_result",
          "data": {
            "text/plain": [
              "<tensorflow.python.keras.callbacks.History at 0x7f7716da8e10>"
            ]
          },
          "metadata": {
            "tags": []
          },
          "execution_count": 37
        }
      ]
    },
    {
      "cell_type": "code",
      "metadata": {
        "id": "LjAiyZp9G_WC",
        "colab_type": "code",
        "colab": {}
      },
      "source": [
        "model.load_weights(filepath)\n",
        "model.compile(loss='categorical_crossentropy', optimizer='adam')"
      ],
      "execution_count": 0,
      "outputs": []
    },
    {
      "cell_type": "code",
      "metadata": {
        "id": "-vTPBkUUHCVD",
        "colab_type": "code",
        "colab": {
          "base_uri": "https://localhost:8080/",
          "height": 107
        },
        "outputId": "5c7565e3-8507-4869-f2a1-b3411dfbda7d"
      },
      "source": [
        "import sys\n",
        "int_to_chars = dict((i,x) for i,x in enumerate(chars))\n",
        "\n",
        "pattern =  \"\"\"Alice was beginning to get very tired of sitting\"\"\".lower()\n",
        "\n",
        "print(f'Seed: {pattern}')\n",
        "print(f'\\nPrediction:')\n",
        "\n",
        "pattern = [char_to_num[j] for j in pattern]\n",
        "\n",
        "for i in range(500):\n",
        "    x = utils.to_categorical(pattern, num_classes=30)\n",
        "    x = np.expand_dims(x, axis=0)\n",
        "    pred = np.argmax(np.squeeze(model.predict(x)))\n",
        "    pattern.pop(0)\n",
        "    pattern.append(pred)\n",
        "    print(int_to_chars[pred], end='')"
      ],
      "execution_count": 39,
      "outputs": [
        {
          "output_type": "stream",
          "text": [
            "Seed: alice was beginning to get very tired of sitting\n",
            "\n",
            "Prediction:\n",
            " band jound jound jound jound jound jound jound jound jound jound jound jound jound jound jound jound jound jound jound jound jound jound jound jound jound jound jound jound jound jound jound jound jound jound jound jound jound jound jound jound jound jound jound jound jound jound jound jound jound jound jound jound jound jound jound jound jound jound jound jound jound jound jound jound jound jound jound jound jound jound jound jound jound jound jound jound jound jound jound jound jound jound jo"
          ],
          "name": "stdout"
        }
      ]
    }
  ]
}